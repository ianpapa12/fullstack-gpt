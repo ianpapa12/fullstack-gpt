{
 "cells": [
  {
   "cell_type": "code",
   "execution_count": 25,
   "metadata": {},
   "outputs": [
    {
     "name": "stderr",
     "output_type": "stream",
     "text": [
      "/Users/ianpapa/Desktop/GitHub/fullstack-gpt/env/lib/python3.11/site-packages/langchain/llms/openai.py:216: UserWarning: You are trying to use a chat model. This way of initializing it is no longer supported. Instead, please use: `from langchain.chat_models import ChatOpenAI`\n",
      "  warnings.warn(\n",
      "/Users/ianpapa/Desktop/GitHub/fullstack-gpt/env/lib/python3.11/site-packages/langchain/llms/openai.py:811: UserWarning: You are trying to use a chat model. This way of initializing it is no longer supported. Instead, please use: `from langchain.chat_models import ChatOpenAI`\n",
      "  warnings.warn(\n"
     ]
    },
    {
     "data": {
      "text/plain": [
       "'\\n\\nwith get_openai_callback() as usage:\\n#as 뒤에 나오는 콜백 이름은 어떻게 지어도 상관없다.\\n    a = chat.predict(\"소주 만드는 레시피는 뭐야?\")\\n    b = chat.predict(\"빵 만드는 레시피는 뭐야?\")\\n    print(usage)\\n#생성이 안료되면 prompt가 얼마나 많은 토근을 사용했는지 사용량을 print해준다.\\n#with 코드 블록안에 모델을 호출하고 print안에 콜백 이름을 넣어주면 된다.\\n    \\n'"
      ]
     },
     "execution_count": 25,
     "metadata": {},
     "output_type": "execute_result"
    }
   ],
   "source": [
    "\n",
    "from langchain.chat_models import ChatOpenAI\n",
    "from langchain.llms.openai import OpenAI\n",
    "from langchain.llms.loading import load_llm\n",
    "#from langchain.callbacks import get_openai_callback\n",
    "\n",
    "chat = load_llm(\"model.json\")\n",
    "\n",
    "#아래 방법과 별개로 모델을 불러올 수 있다.\n",
    "\n",
    "\"\"\"\n",
    "chat = OpenAI(temperature=0.1, max_tokens=450, model=\"gpt-3.5-turbo-16k\")\n",
    "chat.save(\"model.json\")\n",
    "\n",
    "#채팅모델이 아닌 llm으로 작업할 때 max_tokens=450 처럼 너무 많이 설정하는 경우가 있다 \n",
    "#그리고 설정을 저장하고 시다면 chat.save(\"model.json\")으로 해주면 외부에 파일이 생성되면서 해당 환경을 저장해준다 \n",
    "\n",
    "\"\"\"\n",
    "\n",
    "\"\"\"\n",
    "\n",
    "with get_openai_callback() as usage:\n",
    "#as 뒤에 나오는 콜백 이름은 어떻게 지어도 상관없다.\n",
    "    a = chat.predict(\"소주 만드는 레시피는 뭐야?\")\n",
    "    b = chat.predict(\"빵 만드는 레시피는 뭐야?\")\n",
    "    print(usage)\n",
    "#생성이 안료되면 prompt가 얼마나 많은 토근을 사용했는지 사용량을 print해준다.\n",
    "#with 코드 블록안에 모델을 호출하고 print안에 콜백 이름을 넣어주면 된다.\n",
    "    \n",
    "\"\"\""
   ]
  },
  {
   "cell_type": "code",
   "execution_count": null,
   "metadata": {},
   "outputs": [],
   "source": []
  }
 ],
 "metadata": {
  "kernelspec": {
   "display_name": "env",
   "language": "python",
   "name": "python3"
  },
  "language_info": {
   "codemirror_mode": {
    "name": "ipython",
    "version": 3
   },
   "file_extension": ".py",
   "mimetype": "text/x-python",
   "name": "python",
   "nbconvert_exporter": "python",
   "pygments_lexer": "ipython3",
   "version": "3.11.7"
  }
 },
 "nbformat": 4,
 "nbformat_minor": 2
}
