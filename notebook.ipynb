{
 "cells": [
  {
   "cell_type": "code",
   "execution_count": 2,
   "metadata": {},
   "outputs": [
    {
     "name": "stdout",
     "output_type": "stream",
     "text": [
      "\n",
      "\n",
      "\u001b[1m> Entering new AgentExecutor chain...\u001b[0m\n",
      "\u001b[32;1m\u001b[1;3m\n",
      "Invoking: `StockMarketSymbolSearchTool` with `{'query': 'Cloudflare stock'}`\n",
      "\n",
      "\n",
      "\u001b[0m\u001b[36;1m\u001b[1;3mCloudflare (NYSE:NET) Founded by two grad students of Harvard Business School, Cloudflare (NYSE:NET) is a software as a service platform that helps improve security, reliability and loading times ... Stock analysis for Cloudflare Inc (NET:New York) including stock price, stock chart, company news, key statistics, fundamentals and company profile. At Cloudflare, Inc., we promise to treat your data with respect and will not share your information with any third party. You can unsubscribe to any of the investor alerts you are subscribed to by visiting the 'unsubscribe' section below. If you experience any issues with this process, please contact us for further assistance. Get the latest information on Cloudflare, Inc. (NET), a cloud services provider that delivers security and performance solutions. See the stock price, financial performance, analyst forecast, news, and more. Get the latest information on Cloudflare Inc (NET), a software company that offers security and web performance solutions. See its stock price, fair value, news, financials, valuation, and more.\u001b[0m\u001b[32;1m\u001b[1;3mThe stock symbol for Cloudflare is NET and it is listed on the New York Stock Exchange (NYSE). Cloudflare is a software company that offers security and web performance solutions. \n",
      "\n",
      "To analyze if Cloudflare is a potential good investment, we can look at various factors such as the company's financial performance, growth prospects, competitive position, and market trends. Here are some key points to consider:\n",
      "\n",
      "1. **Financial Performance**: Analyze Cloudflare's revenue growth, profitability, and cash flow generation over the past few years. Look for consistent growth and strong financial metrics.\n",
      "\n",
      "2. **Growth Prospects**: Evaluate Cloudflare's potential for future growth in its industry. Consider factors such as market demand for its services, expansion plans, and innovation capabilities.\n",
      "\n",
      "3. **Competitive Position**: Assess Cloudflare's competitive position in the market compared to its peers. Look at its market share, unique offerings, and ability to differentiate itself from competitors.\n",
      "\n",
      "4. **Market Trends**: Consider industry trends and market conditions that could impact Cloudflare's business. Look for opportunities and challenges in the cybersecurity and web performance sectors.\n",
      "\n",
      "It's important to conduct thorough research and analysis before making any investment decisions. Consulting with a financial advisor or conducting a detailed analysis of Cloudflare's financials and market position can help you determine if it's a good investment for you.\u001b[0m\n",
      "\n",
      "\u001b[1m> Finished chain.\u001b[0m\n"
     ]
    },
    {
     "data": {
      "text/plain": [
       "{'input': \"Give me information on Cloudflare's stock and help me analyze if it's a potential good investment. Also tell me what symbol does the stock have.\",\n",
       " 'output': \"The stock symbol for Cloudflare is NET and it is listed on the New York Stock Exchange (NYSE). Cloudflare is a software company that offers security and web performance solutions. \\n\\nTo analyze if Cloudflare is a potential good investment, we can look at various factors such as the company's financial performance, growth prospects, competitive position, and market trends. Here are some key points to consider:\\n\\n1. **Financial Performance**: Analyze Cloudflare's revenue growth, profitability, and cash flow generation over the past few years. Look for consistent growth and strong financial metrics.\\n\\n2. **Growth Prospects**: Evaluate Cloudflare's potential for future growth in its industry. Consider factors such as market demand for its services, expansion plans, and innovation capabilities.\\n\\n3. **Competitive Position**: Assess Cloudflare's competitive position in the market compared to its peers. Look at its market share, unique offerings, and ability to differentiate itself from competitors.\\n\\n4. **Market Trends**: Consider industry trends and market conditions that could impact Cloudflare's business. Look for opportunities and challenges in the cybersecurity and web performance sectors.\\n\\nIt's important to conduct thorough research and analysis before making any investment decisions. Consulting with a financial advisor or conducting a detailed analysis of Cloudflare's financials and market position can help you determine if it's a good investment for you.\"}"
      ]
     },
     "execution_count": 2,
     "metadata": {},
     "output_type": "execute_result"
    }
   ],
   "source": [
    "from typing import Type\n",
    "from langchain.chat_models import ChatOpenAI\n",
    "from langchain.tools import BaseTool\n",
    "from pydantic import BaseModel, Field\n",
    "from langchain.agents import initialize_agent, AgentType\n",
    "from langchain.utilities import DuckDuckGoSearchAPIWrapper, WikipediaAPIWrapper\n",
    "\n",
    "llm = ChatOpenAI(temperature=0.1)\n",
    "\n",
    "\n",
    "class StockMarketSymbolSearchToolArgsSchema(BaseModel):\n",
    "    query: str = Field(\n",
    "        description=\"The query you will search for.Example query: Stock Market Symbol for Apple Company\"\n",
    "    )\n",
    "\n",
    "\n",
    "class StockMarketSymbolSearchTool(BaseTool):\n",
    "    name = \"StockMarketSymbolSearchTool\"\n",
    "    description = \"\"\"\n",
    "    Use this tool to find the stock market symbol for a company.\n",
    "    It takes a query as an argument.\n",
    "    \n",
    "    \"\"\"\n",
    "    args_schema: Type[\n",
    "        StockMarketSymbolSearchToolArgsSchema\n",
    "    ] = StockMarketSymbolSearchToolArgsSchema\n",
    "\n",
    "    def _run(self, query):\n",
    "        ddg = DuckDuckGoSearchAPIWrapper()\n",
    "        return ddg.run(query)\n",
    "    \n",
    "    def _wiki(self, query):\n",
    "        wiki = WikipediaAPIWrapper()\n",
    "        return wiki.run(query)\n",
    "\n",
    "\n",
    "\n",
    "agent = initialize_agent(\n",
    "    llm=llm,\n",
    "    verbose=True,\n",
    "    agent=AgentType.OPENAI_FUNCTIONS,\n",
    "    handle_parsing_errors=True,\n",
    "    tools=[\n",
    "        StockMarketSymbolSearchTool(),\n",
    "    ],\n",
    ")\n",
    "\n",
    "prompt = \"Give me information on Cloudflare's stock and help me analyze if it's a potential good investment. Also tell me what symbol does the stock have.\"\n",
    "\n",
    "agent.invoke(prompt)"
   ]
  },
  {
   "cell_type": "code",
   "execution_count": null,
   "metadata": {},
   "outputs": [],
   "source": []
  },
  {
   "cell_type": "code",
   "execution_count": null,
   "metadata": {},
   "outputs": [],
   "source": []
  }
 ],
 "metadata": {
  "kernelspec": {
   "display_name": "env",
   "language": "python",
   "name": "python3"
  },
  "language_info": {
   "codemirror_mode": {
    "name": "ipython",
    "version": 3
   },
   "file_extension": ".py",
   "mimetype": "text/x-python",
   "name": "python",
   "nbconvert_exporter": "python",
   "pygments_lexer": "ipython3",
   "version": "3.11.7"
  }
 },
 "nbformat": 4,
 "nbformat_minor": 2
}
