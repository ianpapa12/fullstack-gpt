{
 "cells": [
  {
   "cell_type": "code",
   "execution_count": 15,
   "metadata": {},
   "outputs": [
    {
     "name": "stdout",
     "output_type": "stream",
     "text": [
      "\u001b[32;1m\u001b[1;3m[llm/start]\u001b[0m \u001b[1m[1:llm:ChatOpenAI] Entering LLM run with input:\n",
      "\u001b[0m{\n",
      "  \"prompts\": [\n",
      "    \"Human: 이탈리아는 파스타를 어떻게 만드나요?\"\n",
      "  ]\n",
      "}\n",
      "\u001b[36;1m\u001b[1;3m[llm/end]\u001b[0m \u001b[1m[1:llm:ChatOpenAI] [8.15s] Exiting LLM run with output:\n",
      "\u001b[0m{\n",
      "  \"generations\": [\n",
      "    [\n",
      "      {\n",
      "        \"text\": \"이탈리아의 파스타는 다양한 종류와 스타일이 있지만, 전통적으로는 밀가루와 물을 섞어 반죽을 만들고, 이를 얇게 빚어서 다양한 모양으로 자른 후 삶아내는 과정을 거칩니다. \\n\\n일반적으로 파스타는 물에 소금을 넣고 삶아내며, 삶는 시간은 파스타의 종류와 모양에 따라 다를 수 있습니다. 삶은 후에는 적절한 소스와 함께 섭취하게 됩니다. \\n\\n파스타의 소스는 토마토 소스, 크림 소스, 올리브 오일과 허브 소스 등 다양한 종류가 있으며, 이탈리아 각 지역마다 특색 있는 소스가 있습니다. \\n\\n이탈리아 파스타는 심플하면서도 맛있는 요리로 유명하며, 전 세계적으로 사랑받는 음식 중 하나입니다.\",\n",
      "        \"generation_info\": {\n",
      "          \"finish_reason\": \"stop\"\n",
      "        },\n",
      "        \"type\": \"ChatGeneration\",\n",
      "        \"message\": {\n",
      "          \"lc\": 1,\n",
      "          \"type\": \"constructor\",\n",
      "          \"id\": [\n",
      "            \"langchain\",\n",
      "            \"schema\",\n",
      "            \"messages\",\n",
      "            \"AIMessage\"\n",
      "          ],\n",
      "          \"kwargs\": {\n",
      "            \"content\": \"이탈리아의 파스타는 다양한 종류와 스타일이 있지만, 전통적으로는 밀가루와 물을 섞어 반죽을 만들고, 이를 얇게 빚어서 다양한 모양으로 자른 후 삶아내는 과정을 거칩니다. \\n\\n일반적으로 파스타는 물에 소금을 넣고 삶아내며, 삶는 시간은 파스타의 종류와 모양에 따라 다를 수 있습니다. 삶은 후에는 적절한 소스와 함께 섭취하게 됩니다. \\n\\n파스타의 소스는 토마토 소스, 크림 소스, 올리브 오일과 허브 소스 등 다양한 종류가 있으며, 이탈리아 각 지역마다 특색 있는 소스가 있습니다. \\n\\n이탈리아 파스타는 심플하면서도 맛있는 요리로 유명하며, 전 세계적으로 사랑받는 음식 중 하나입니다.\",\n",
      "            \"additional_kwargs\": {}\n",
      "          }\n",
      "        }\n",
      "      }\n",
      "    ]\n",
      "  ],\n",
      "  \"llm_output\": {\n",
      "    \"token_usage\": {\n",
      "      \"prompt_tokens\": 29,\n",
      "      \"completion_tokens\": 320,\n",
      "      \"total_tokens\": 349\n",
      "    },\n",
      "    \"model_name\": \"gpt-3.5-turbo\",\n",
      "    \"system_fingerprint\": \"fp_3bc1b5746c\"\n",
      "  },\n",
      "  \"run\": null\n",
      "}\n"
     ]
    },
    {
     "data": {
      "text/plain": [
       "'이탈리아의 파스타는 다양한 종류와 스타일이 있지만, 전통적으로는 밀가루와 물을 섞어 반죽을 만들고, 이를 얇게 빚어서 다양한 모양으로 자른 후 삶아내는 과정을 거칩니다. \\n\\n일반적으로 파스타는 물에 소금을 넣고 삶아내며, 삶는 시간은 파스타의 종류와 모양에 따라 다를 수 있습니다. 삶은 후에는 적절한 소스와 함께 섭취하게 됩니다. \\n\\n파스타의 소스는 토마토 소스, 크림 소스, 올리브 오일과 허브 소스 등 다양한 종류가 있으며, 이탈리아 각 지역마다 특색 있는 소스가 있습니다. \\n\\n이탈리아 파스타는 심플하면서도 맛있는 요리로 유명하며, 전 세계적으로 사랑받는 음식 중 하나입니다.'"
      ]
     },
     "execution_count": 15,
     "metadata": {},
     "output_type": "execute_result"
    }
   ],
   "source": [
    "\n",
    "from langchain.chat_models import ChatOpenAI\n",
    "from langchain.callbacks import StreamingStdOutCallbackHandler\n",
    "from langchain.globals import set_llm_cache, set_debug\n",
    "from langchain.cache import InMemoryCache,SQLiteCache\n",
    "\n",
    "set_llm_cache(SQLiteCache(\"cache.db\"))\n",
    "#메모리가 아닌 데이터베이스에 캐싱 할 수 있는 함수 \n",
    "\n",
    "#set_llm_cache(InMemoryCache())\n",
    "#이렇게 하면 모든 response가 메모리에 저장된다 \n",
    "#set_debug(True)\n",
    "#무슨일을 하고 있는지에 대한 로그를 보여준다.체인 작업시 유용하다.\n",
    "\n",
    "chat = ChatOpenAI(temperature=0.1) #streaming=True, callbacks=[StreamingStdOutCallbackHandler()])\n",
    "#streaming은 model의 응답이 생성되는 것을 볼 수 있게 해준다. console에서의 응답 진행과정을 확인할 수 있음 \n",
    "\n",
    "\n",
    "chat.predict(\"이탈리아는 파스타를 어떻게 만드나요?\")\n"
   ]
  },
  {
   "cell_type": "code",
   "execution_count": null,
   "metadata": {},
   "outputs": [],
   "source": [
    "chat.predict(\"이탈리아는 파스타를 어떻게 만드나요?\")"
   ]
  },
  {
   "cell_type": "code",
   "execution_count": null,
   "metadata": {},
   "outputs": [],
   "source": []
  },
  {
   "cell_type": "code",
   "execution_count": null,
   "metadata": {},
   "outputs": [],
   "source": []
  }
 ],
 "metadata": {
  "kernelspec": {
   "display_name": "env",
   "language": "python",
   "name": "python3"
  },
  "language_info": {
   "codemirror_mode": {
    "name": "ipython",
    "version": 3
   },
   "file_extension": ".py",
   "mimetype": "text/x-python",
   "name": "python",
   "nbconvert_exporter": "python",
   "pygments_lexer": "ipython3",
   "version": "3.11.7"
  }
 },
 "nbformat": 4,
 "nbformat_minor": 2
}
